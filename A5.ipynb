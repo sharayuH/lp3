{
 "cells": [
  {
   "cell_type": "markdown",
   "id": "f6971c06",
   "metadata": {},
   "source": [
    "# Problem statement:\n",
    "\n",
    "Implement K-Means clustering/ hierarchical clustering on sales_data_sample.csv dataset. Determine the number of clusters using the elbow method."
   ]
  },
  {
   "cell_type": "code",
   "execution_count": 2,
   "id": "67380103",
   "metadata": {},
   "outputs": [],
   "source": [
    "import numpy as np\n",
    "import matplotlib.pyplot as plt\n",
    "import pandas as pd\n",
    "import sklearn"
   ]
  },
  {
   "cell_type": "code",
   "execution_count": 3,
   "id": "50d5e337",
   "metadata": {},
   "outputs": [],
   "source": [
    "dataset = pd.read_csv('sales_data_sample.csv', encoding='Latin-1')"
   ]
  },
  {
   "cell_type": "code",
   "execution_count": 4,
   "id": "7113aed6",
   "metadata": {},
   "outputs": [
    {
     "data": {
      "text/html": [
       "<div>\n",
       "<style scoped>\n",
       "    .dataframe tbody tr th:only-of-type {\n",
       "        vertical-align: middle;\n",
       "    }\n",
       "\n",
       "    .dataframe tbody tr th {\n",
       "        vertical-align: top;\n",
       "    }\n",
       "\n",
       "    .dataframe thead th {\n",
       "        text-align: right;\n",
       "    }\n",
       "</style>\n",
       "<table border=\"1\" class=\"dataframe\">\n",
       "  <thead>\n",
       "    <tr style=\"text-align: right;\">\n",
       "      <th></th>\n",
       "      <th>ORDERNUMBER</th>\n",
       "      <th>QUANTITYORDERED</th>\n",
       "      <th>PRICEEACH</th>\n",
       "      <th>ORDERLINENUMBER</th>\n",
       "      <th>SALES</th>\n",
       "      <th>ORDERDATE</th>\n",
       "      <th>STATUS</th>\n",
       "      <th>QTR_ID</th>\n",
       "      <th>MONTH_ID</th>\n",
       "      <th>YEAR_ID</th>\n",
       "      <th>...</th>\n",
       "      <th>ADDRESSLINE1</th>\n",
       "      <th>ADDRESSLINE2</th>\n",
       "      <th>CITY</th>\n",
       "      <th>STATE</th>\n",
       "      <th>POSTALCODE</th>\n",
       "      <th>COUNTRY</th>\n",
       "      <th>TERRITORY</th>\n",
       "      <th>CONTACTLASTNAME</th>\n",
       "      <th>CONTACTFIRSTNAME</th>\n",
       "      <th>DEALSIZE</th>\n",
       "    </tr>\n",
       "  </thead>\n",
       "  <tbody>\n",
       "    <tr>\n",
       "      <th>0</th>\n",
       "      <td>10107</td>\n",
       "      <td>30</td>\n",
       "      <td>95.70</td>\n",
       "      <td>2</td>\n",
       "      <td>2871.00</td>\n",
       "      <td>2/24/2003 0:00</td>\n",
       "      <td>Shipped</td>\n",
       "      <td>1</td>\n",
       "      <td>2</td>\n",
       "      <td>2003</td>\n",
       "      <td>...</td>\n",
       "      <td>897 Long Airport Avenue</td>\n",
       "      <td>NaN</td>\n",
       "      <td>NYC</td>\n",
       "      <td>NY</td>\n",
       "      <td>10022</td>\n",
       "      <td>USA</td>\n",
       "      <td>NaN</td>\n",
       "      <td>Yu</td>\n",
       "      <td>Kwai</td>\n",
       "      <td>Small</td>\n",
       "    </tr>\n",
       "    <tr>\n",
       "      <th>1</th>\n",
       "      <td>10121</td>\n",
       "      <td>34</td>\n",
       "      <td>81.35</td>\n",
       "      <td>5</td>\n",
       "      <td>2765.90</td>\n",
       "      <td>5/7/2003 0:00</td>\n",
       "      <td>Shipped</td>\n",
       "      <td>2</td>\n",
       "      <td>5</td>\n",
       "      <td>2003</td>\n",
       "      <td>...</td>\n",
       "      <td>59 rue de l'Abbaye</td>\n",
       "      <td>NaN</td>\n",
       "      <td>Reims</td>\n",
       "      <td>NaN</td>\n",
       "      <td>51100</td>\n",
       "      <td>France</td>\n",
       "      <td>EMEA</td>\n",
       "      <td>Henriot</td>\n",
       "      <td>Paul</td>\n",
       "      <td>Small</td>\n",
       "    </tr>\n",
       "    <tr>\n",
       "      <th>2</th>\n",
       "      <td>10134</td>\n",
       "      <td>41</td>\n",
       "      <td>94.74</td>\n",
       "      <td>2</td>\n",
       "      <td>3884.34</td>\n",
       "      <td>7/1/2003 0:00</td>\n",
       "      <td>Shipped</td>\n",
       "      <td>3</td>\n",
       "      <td>7</td>\n",
       "      <td>2003</td>\n",
       "      <td>...</td>\n",
       "      <td>27 rue du Colonel Pierre Avia</td>\n",
       "      <td>NaN</td>\n",
       "      <td>Paris</td>\n",
       "      <td>NaN</td>\n",
       "      <td>75508</td>\n",
       "      <td>France</td>\n",
       "      <td>EMEA</td>\n",
       "      <td>Da Cunha</td>\n",
       "      <td>Daniel</td>\n",
       "      <td>Medium</td>\n",
       "    </tr>\n",
       "    <tr>\n",
       "      <th>3</th>\n",
       "      <td>10145</td>\n",
       "      <td>45</td>\n",
       "      <td>83.26</td>\n",
       "      <td>6</td>\n",
       "      <td>3746.70</td>\n",
       "      <td>8/25/2003 0:00</td>\n",
       "      <td>Shipped</td>\n",
       "      <td>3</td>\n",
       "      <td>8</td>\n",
       "      <td>2003</td>\n",
       "      <td>...</td>\n",
       "      <td>78934 Hillside Dr.</td>\n",
       "      <td>NaN</td>\n",
       "      <td>Pasadena</td>\n",
       "      <td>CA</td>\n",
       "      <td>90003</td>\n",
       "      <td>USA</td>\n",
       "      <td>NaN</td>\n",
       "      <td>Young</td>\n",
       "      <td>Julie</td>\n",
       "      <td>Medium</td>\n",
       "    </tr>\n",
       "    <tr>\n",
       "      <th>4</th>\n",
       "      <td>10159</td>\n",
       "      <td>49</td>\n",
       "      <td>100.00</td>\n",
       "      <td>14</td>\n",
       "      <td>5205.27</td>\n",
       "      <td>10/10/2003 0:00</td>\n",
       "      <td>Shipped</td>\n",
       "      <td>4</td>\n",
       "      <td>10</td>\n",
       "      <td>2003</td>\n",
       "      <td>...</td>\n",
       "      <td>7734 Strong St.</td>\n",
       "      <td>NaN</td>\n",
       "      <td>San Francisco</td>\n",
       "      <td>CA</td>\n",
       "      <td>NaN</td>\n",
       "      <td>USA</td>\n",
       "      <td>NaN</td>\n",
       "      <td>Brown</td>\n",
       "      <td>Julie</td>\n",
       "      <td>Medium</td>\n",
       "    </tr>\n",
       "  </tbody>\n",
       "</table>\n",
       "<p>5 rows × 25 columns</p>\n",
       "</div>"
      ],
      "text/plain": [
       "   ORDERNUMBER  QUANTITYORDERED  PRICEEACH  ORDERLINENUMBER    SALES  \\\n",
       "0        10107               30      95.70                2  2871.00   \n",
       "1        10121               34      81.35                5  2765.90   \n",
       "2        10134               41      94.74                2  3884.34   \n",
       "3        10145               45      83.26                6  3746.70   \n",
       "4        10159               49     100.00               14  5205.27   \n",
       "\n",
       "         ORDERDATE   STATUS  QTR_ID  MONTH_ID  YEAR_ID  ...  \\\n",
       "0   2/24/2003 0:00  Shipped       1         2     2003  ...   \n",
       "1    5/7/2003 0:00  Shipped       2         5     2003  ...   \n",
       "2    7/1/2003 0:00  Shipped       3         7     2003  ...   \n",
       "3   8/25/2003 0:00  Shipped       3         8     2003  ...   \n",
       "4  10/10/2003 0:00  Shipped       4        10     2003  ...   \n",
       "\n",
       "                    ADDRESSLINE1  ADDRESSLINE2           CITY STATE  \\\n",
       "0        897 Long Airport Avenue           NaN            NYC    NY   \n",
       "1             59 rue de l'Abbaye           NaN          Reims   NaN   \n",
       "2  27 rue du Colonel Pierre Avia           NaN          Paris   NaN   \n",
       "3             78934 Hillside Dr.           NaN       Pasadena    CA   \n",
       "4                7734 Strong St.           NaN  San Francisco    CA   \n",
       "\n",
       "  POSTALCODE COUNTRY TERRITORY CONTACTLASTNAME CONTACTFIRSTNAME DEALSIZE  \n",
       "0      10022     USA       NaN              Yu             Kwai    Small  \n",
       "1      51100  France      EMEA         Henriot             Paul    Small  \n",
       "2      75508  France      EMEA        Da Cunha           Daniel   Medium  \n",
       "3      90003     USA       NaN           Young            Julie   Medium  \n",
       "4        NaN     USA       NaN           Brown            Julie   Medium  \n",
       "\n",
       "[5 rows x 25 columns]"
      ]
     },
     "execution_count": 4,
     "metadata": {},
     "output_type": "execute_result"
    }
   ],
   "source": [
    "dataset.head()"
   ]
  },
  {
   "cell_type": "code",
   "execution_count": 5,
   "id": "fb33d707",
   "metadata": {},
   "outputs": [
    {
     "data": {
      "text/plain": [
       "(2823, 25)"
      ]
     },
     "execution_count": 5,
     "metadata": {},
     "output_type": "execute_result"
    }
   ],
   "source": [
    "dataset.shape"
   ]
  },
  {
   "cell_type": "code",
   "execution_count": 6,
   "id": "05e9a493",
   "metadata": {},
   "outputs": [
    {
     "name": "stdout",
     "output_type": "stream",
     "text": [
      "10332    18\n",
      "10106    18\n",
      "10159    18\n",
      "10168    18\n",
      "10398    18\n",
      "         ..\n",
      "10242     1\n",
      "10189     1\n",
      "10286     1\n",
      "10216     1\n",
      "10294     1\n",
      "Name: ORDERNUMBER, Length: 307, dtype: int64\n",
      "34    112\n",
      "21    103\n",
      "46    101\n",
      "27    100\n",
      "31     97\n",
      "41     97\n",
      "45     97\n",
      "26     96\n",
      "29     94\n",
      "48     94\n",
      "25     94\n",
      "20     93\n",
      "33     92\n",
      "22     92\n",
      "32     91\n",
      "24     91\n",
      "38     91\n",
      "49     91\n",
      "36     89\n",
      "44     89\n",
      "37     87\n",
      "43     85\n",
      "39     84\n",
      "28     82\n",
      "40     78\n",
      "42     76\n",
      "30     75\n",
      "23     73\n",
      "35     71\n",
      "47     70\n",
      "50     65\n",
      "55     16\n",
      "66      5\n",
      "15      4\n",
      "51      4\n",
      "61      3\n",
      "18      3\n",
      "60      3\n",
      "76      3\n",
      "59      3\n",
      "56      3\n",
      "19      3\n",
      "64      3\n",
      "10      2\n",
      "6       2\n",
      "11      2\n",
      "54      2\n",
      "70      2\n",
      "97      1\n",
      "85      1\n",
      "62      1\n",
      "52      1\n",
      "16      1\n",
      "13      1\n",
      "58      1\n",
      "65      1\n",
      "12      1\n",
      "77      1\n",
      "Name: QUANTITYORDERED, dtype: int64\n",
      "100.00    1304\n",
      "59.87        6\n",
      "96.34        6\n",
      "57.73        5\n",
      "80.55        5\n",
      "          ... \n",
      "48.30        1\n",
      "87.96        1\n",
      "36.21        1\n",
      "98.48        1\n",
      "62.24        1\n",
      "Name: PRICEEACH, Length: 1016, dtype: int64\n",
      "1     307\n",
      "2     291\n",
      "3     270\n",
      "4     256\n",
      "5     239\n",
      "6     221\n",
      "7     197\n",
      "8     187\n",
      "9     165\n",
      "10    141\n",
      "11    128\n",
      "12    110\n",
      "13     97\n",
      "14     81\n",
      "15     56\n",
      "16     42\n",
      "17     25\n",
      "18     10\n",
      "Name: ORDERLINENUMBER, dtype: int64\n",
      "3003.00    3\n",
      "5464.69    2\n",
      "2257.92    2\n",
      "5004.80    2\n",
      "2172.48    2\n",
      "          ..\n",
      "2312.24    1\n",
      "2793.71    1\n",
      "1908.28    1\n",
      "3441.37    1\n",
      "2116.16    1\n",
      "Name: SALES, Length: 2763, dtype: int64\n",
      "11/14/2003 0:00    38\n",
      "11/24/2004 0:00    35\n",
      "11/12/2003 0:00    34\n",
      "11/17/2004 0:00    32\n",
      "11/4/2004 0:00     29\n",
      "                   ..\n",
      "4/20/2004 0:00      1\n",
      "8/4/2004 0:00       1\n",
      "2/2/2004 0:00       1\n",
      "8/28/2004 0:00      1\n",
      "4/21/2003 0:00      1\n",
      "Name: ORDERDATE, Length: 252, dtype: int64\n",
      "Shipped       2617\n",
      "Cancelled       60\n",
      "Resolved        47\n",
      "On Hold         44\n",
      "In Process      41\n",
      "Disputed        14\n",
      "Name: STATUS, dtype: int64\n",
      "4    1094\n",
      "1     665\n",
      "2     561\n",
      "3     503\n",
      "Name: QTR_ID, dtype: int64\n",
      "11    597\n",
      "10    317\n",
      "5     252\n",
      "1     229\n",
      "2     224\n",
      "3     212\n",
      "8     191\n",
      "12    180\n",
      "4     178\n",
      "9     171\n",
      "7     141\n",
      "6     131\n",
      "Name: MONTH_ID, dtype: int64\n",
      "2004    1345\n",
      "2003    1000\n",
      "2005     478\n",
      "Name: YEAR_ID, dtype: int64\n",
      "Classic Cars        967\n",
      "Vintage Cars        607\n",
      "Motorcycles         331\n",
      "Planes              306\n",
      "Trucks and Buses    301\n",
      "Ships               234\n",
      "Trains               77\n",
      "Name: PRODUCTLINE, dtype: int64\n",
      "118    104\n",
      "99     103\n",
      "136     80\n",
      "62      78\n",
      "68      77\n",
      "      ... \n",
      "73      23\n",
      "41      22\n",
      "170     22\n",
      "71      22\n",
      "92      22\n",
      "Name: MSRP, Length: 80, dtype: int64\n",
      "S18_3232    52\n",
      "S10_1949    28\n",
      "S24_1444    28\n",
      "S10_4962    28\n",
      "S24_2840    28\n",
      "            ..\n",
      "S18_1749    22\n",
      "S24_2887    22\n",
      "S24_3969    22\n",
      "S18_4409    22\n",
      "S18_4933    22\n",
      "Name: PRODUCTCODE, Length: 109, dtype: int64\n",
      "Euro Shopping Channel           259\n",
      "Mini Gifts Distributors Ltd.    180\n",
      "Australian Collectors, Co.       55\n",
      "La Rochelle Gifts                53\n",
      "AV Stores, Co.                   51\n",
      "                               ... \n",
      "Microscale Inc.                  10\n",
      "Royale Belge                      8\n",
      "Auto-Moto Classics Inc.           8\n",
      "Atelier graphique                 7\n",
      "Boards & Toys Co.                 3\n",
      "Name: CUSTOMERNAME, Length: 92, dtype: int64\n",
      "(91) 555 94 44      259\n",
      "4155551450          180\n",
      "03 9520 4555         55\n",
      "40.67.8555           53\n",
      "(171) 555-1555       51\n",
      "                   ... \n",
      "2125551957           10\n",
      "(071) 23 67 2555      8\n",
      "6175558428            8\n",
      "40.32.2555            7\n",
      "3105552373            3\n",
      "Name: PHONE, Length: 91, dtype: int64\n",
      "C/ Moralzarzal, 86              259\n",
      "5677 Strong St.                 180\n",
      "636 St Kilda Road                55\n",
      "67, rue des Cinquante Otages     53\n",
      "Fauntleroy Circus                51\n",
      "                               ... \n",
      "5290 North Pendale Street        10\n",
      "Boulevard Tirou, 255              8\n",
      "16780 Pompton St.                 8\n",
      "54, rue Royale                    7\n",
      "4097 Douglas Av.                  3\n",
      "Name: ADDRESSLINE1, Length: 92, dtype: int64\n",
      "Level 3        55\n",
      "Suite 400      48\n",
      "Level 6        46\n",
      "Level 15       46\n",
      "2nd Floor      36\n",
      "Suite 101      25\n",
      "Suite 750      20\n",
      "Floor No. 4    16\n",
      "Suite 200      10\n",
      "Name: ADDRESSLINE2, dtype: int64\n",
      "Madrid         304\n",
      "San Rafael     180\n",
      "NYC            152\n",
      "Singapore       79\n",
      "Paris           70\n",
      "              ... \n",
      "Graz            15\n",
      "Los Angeles     14\n",
      "Munich          14\n",
      "Burbank         13\n",
      "Charleroi        8\n",
      "Name: CITY, Length: 73, dtype: int64\n",
      "CA               416\n",
      "MA               190\n",
      "NY               178\n",
      "NSW               92\n",
      "Victoria          78\n",
      "PA                75\n",
      "CT                61\n",
      "BC                48\n",
      "NH                34\n",
      "Tokyo             32\n",
      "NV                29\n",
      "Isle of Wight     26\n",
      "Quebec            22\n",
      "NJ                21\n",
      "Osaka             20\n",
      "Queensland        15\n",
      "Name: STATE, dtype: int64\n",
      "28034      259\n",
      "97562      205\n",
      "10022      152\n",
      "94217       89\n",
      "50553       61\n",
      "          ... \n",
      "4101        15\n",
      "80686       14\n",
      "WA1 1DP     12\n",
      "B-6000       8\n",
      "92561        3\n",
      "Name: POSTALCODE, Length: 73, dtype: int64\n",
      "USA            1004\n",
      "Spain           342\n",
      "France          314\n",
      "Australia       185\n",
      "UK              144\n",
      "Italy           113\n",
      "Finland          92\n",
      "Norway           85\n",
      "Singapore        79\n",
      "Canada           70\n",
      "Denmark          63\n",
      "Germany          62\n",
      "Sweden           57\n",
      "Austria          55\n",
      "Japan            52\n",
      "Belgium          33\n",
      "Switzerland      31\n",
      "Philippines      26\n",
      "Ireland          16\n",
      "Name: COUNTRY, dtype: int64\n",
      "EMEA     1407\n",
      "APAC      221\n",
      "Japan     121\n",
      "Name: TERRITORY, dtype: int64\n",
      "Freyre      259\n",
      "Nelson      204\n",
      "Young       115\n",
      "Frick        91\n",
      "Brown        88\n",
      "           ... \n",
      "Hardy        12\n",
      "Tseng        11\n",
      "Kuo          10\n",
      "Cartrain      8\n",
      "Schmitt       7\n",
      "Name: CONTACTLASTNAME, Length: 77, dtype: int64\n",
      "Diego      259\n",
      "Valarie    257\n",
      "Julie      117\n",
      "Sue         84\n",
      "Michael     84\n",
      "          ... \n",
      "Jesus       13\n",
      "Thomas      12\n",
      "Kee         10\n",
      "Pascale      8\n",
      "Carine       7\n",
      "Name: CONTACTFIRSTNAME, Length: 72, dtype: int64\n",
      "Medium    1384\n",
      "Small     1282\n",
      "Large      157\n",
      "Name: DEALSIZE, dtype: int64\n"
     ]
    }
   ],
   "source": [
    "for i in dataset.columns:\n",
    "    print(dataset[i].value_counts())\n",
    "    \n",
    "## Numerical STATUS, PRODUCTLINE, DEALSIZE\n",
    "## Drop ['CUSTOMERNAME' , 'PRODUCTCODE', 'PHONE', 'ADDRESSLINE1', 'ADDRESSLINE2', 'CITY', 'STATE', 'POSTALCODE', 'COUNTRY', 'TERRITORY', 'CONTACTLASTNAME', 'CONTACTFIRSTNAME']"
   ]
  },
  {
   "cell_type": "code",
   "execution_count": 7,
   "id": "b4650023",
   "metadata": {},
   "outputs": [],
   "source": [
    "dataset.drop(['CUSTOMERNAME' , 'PRODUCTCODE', 'PHONE', 'ADDRESSLINE1', 'ADDRESSLINE2', 'CITY', 'STATE', 'POSTALCODE', 'COUNTRY', 'TERRITORY', 'CONTACTLASTNAME', 'CONTACTFIRSTNAME'], axis=1,inplace=True)"
   ]
  },
  {
   "cell_type": "code",
   "execution_count": 8,
   "id": "b22e7c6c",
   "metadata": {},
   "outputs": [
    {
     "data": {
      "text/plain": [
       "(2823, 13)"
      ]
     },
     "execution_count": 8,
     "metadata": {},
     "output_type": "execute_result"
    }
   ],
   "source": [
    "dataset.shape"
   ]
  },
  {
   "cell_type": "code",
   "execution_count": 9,
   "id": "deb3af65",
   "metadata": {},
   "outputs": [],
   "source": [
    "dataset.dropna(inplace=True)"
   ]
  },
  {
   "cell_type": "code",
   "execution_count": 10,
   "id": "f9aa6db8",
   "metadata": {},
   "outputs": [
    {
     "data": {
      "text/plain": [
       "(2823, 13)"
      ]
     },
     "execution_count": 10,
     "metadata": {},
     "output_type": "execute_result"
    }
   ],
   "source": [
    "dataset.shape"
   ]
  },
  {
   "cell_type": "code",
   "execution_count": 11,
   "id": "a94cf94f",
   "metadata": {},
   "outputs": [
    {
     "data": {
      "text/plain": [
       "ORDERNUMBER          int64\n",
       "QUANTITYORDERED      int64\n",
       "PRICEEACH          float64\n",
       "ORDERLINENUMBER      int64\n",
       "SALES              float64\n",
       "ORDERDATE           object\n",
       "STATUS              object\n",
       "QTR_ID               int64\n",
       "MONTH_ID             int64\n",
       "YEAR_ID              int64\n",
       "PRODUCTLINE         object\n",
       "MSRP                 int64\n",
       "DEALSIZE            object\n",
       "dtype: object"
      ]
     },
     "execution_count": 11,
     "metadata": {},
     "output_type": "execute_result"
    }
   ],
   "source": [
    "dataset.dtypes"
   ]
  },
  {
   "cell_type": "code",
   "execution_count": 12,
   "id": "9da15078",
   "metadata": {},
   "outputs": [],
   "source": [
    "dataset.drop(['ORDERDATE'], axis=1,inplace=True)"
   ]
  },
  {
   "cell_type": "code",
   "execution_count": 13,
   "id": "1879e7f3",
   "metadata": {},
   "outputs": [
    {
     "data": {
      "text/plain": [
       "(2823, 12)"
      ]
     },
     "execution_count": 13,
     "metadata": {},
     "output_type": "execute_result"
    }
   ],
   "source": [
    "dataset.shape"
   ]
  },
  {
   "cell_type": "code",
   "execution_count": 14,
   "id": "25779cb6",
   "metadata": {},
   "outputs": [
    {
     "data": {
      "text/plain": [
       "Shipped       2617\n",
       "Cancelled       60\n",
       "Resolved        47\n",
       "On Hold         44\n",
       "In Process      41\n",
       "Disputed        14\n",
       "Name: STATUS, dtype: int64"
      ]
     },
     "execution_count": 14,
     "metadata": {},
     "output_type": "execute_result"
    }
   ],
   "source": [
    "dataset.STATUS.value_counts()"
   ]
  },
  {
   "cell_type": "code",
   "execution_count": 15,
   "id": "57bb43fa",
   "metadata": {},
   "outputs": [],
   "source": [
    "status_dict = {\"Shipped\":\"0\",\"Cancelled\":\"1\",\"Resolved\":\"2\",\"On Hold\":\"3\",\"In Process\":\"4\",\"Disputed\":\"5\"}\n",
    "\n",
    "def process(text):\n",
    "    text = text.replace('Shipped', status_dict['Shipped']).replace('Cancelled', status_dict['Cancelled']).replace('Resolved', status_dict['Resolved']).replace('On Hold', status_dict['On Hold']).replace('In Process', status_dict['In Process']).replace('Disputed', status_dict['Disputed'])\n",
    "    text = text.encode(\"utf8\").decode(\"ascii\",'ignore')\n",
    "    text = \" \".join(text.split())\n",
    "    return text\n",
    "\n",
    "dataset.STATUS = dataset.STATUS.apply(process)"
   ]
  },
  {
   "cell_type": "code",
   "execution_count": 16,
   "id": "33cb09ef",
   "metadata": {},
   "outputs": [],
   "source": [
    "dataset.STATUS = dataset.STATUS.astype(int)"
   ]
  },
  {
   "cell_type": "code",
   "execution_count": 17,
   "id": "700d40cd",
   "metadata": {},
   "outputs": [
    {
     "data": {
      "text/plain": [
       "dtype('int32')"
      ]
     },
     "execution_count": 17,
     "metadata": {},
     "output_type": "execute_result"
    }
   ],
   "source": [
    "dataset.STATUS.dtype"
   ]
  },
  {
   "cell_type": "code",
   "execution_count": 18,
   "id": "612da1b3",
   "metadata": {},
   "outputs": [
    {
     "data": {
      "text/plain": [
       "0    2617\n",
       "1      60\n",
       "2      47\n",
       "3      44\n",
       "4      41\n",
       "5      14\n",
       "Name: STATUS, dtype: int64"
      ]
     },
     "execution_count": 18,
     "metadata": {},
     "output_type": "execute_result"
    }
   ],
   "source": [
    "dataset.STATUS.value_counts()"
   ]
  },
  {
   "cell_type": "code",
   "execution_count": 19,
   "id": "1aec4932",
   "metadata": {},
   "outputs": [
    {
     "data": {
      "text/plain": [
       "Medium    1384\n",
       "Small     1282\n",
       "Large      157\n",
       "Name: DEALSIZE, dtype: int64"
      ]
     },
     "execution_count": 19,
     "metadata": {},
     "output_type": "execute_result"
    }
   ],
   "source": [
    "dataset.DEALSIZE.value_counts()"
   ]
  },
  {
   "cell_type": "code",
   "execution_count": 20,
   "id": "a69727eb",
   "metadata": {},
   "outputs": [],
   "source": [
    "dealsize_dict = {\"Small\":\"0\",\"Medium\":\"1\",\"Large\":\"2\"}\n",
    "\n",
    "def process(text):\n",
    "    text = text.replace('Small', dealsize_dict['Small']).replace('Medium', dealsize_dict['Medium']).replace('Large', dealsize_dict['Large'])\n",
    "    text = text.encode(\"utf8\").decode(\"ascii\",'ignore')\n",
    "    text = \" \".join(text.split())\n",
    "    return text\n",
    "\n",
    "dataset.DEALSIZE = dataset.DEALSIZE.apply(process)"
   ]
  },
  {
   "cell_type": "code",
   "execution_count": 21,
   "id": "9c59daee",
   "metadata": {},
   "outputs": [],
   "source": [
    "dataset.DEALSIZE = dataset.DEALSIZE.astype(int)"
   ]
  },
  {
   "cell_type": "code",
   "execution_count": 22,
   "id": "6840def1",
   "metadata": {},
   "outputs": [
    {
     "data": {
      "text/plain": [
       "dtype('int32')"
      ]
     },
     "execution_count": 22,
     "metadata": {},
     "output_type": "execute_result"
    }
   ],
   "source": [
    "dataset.DEALSIZE.dtypes"
   ]
  },
  {
   "cell_type": "code",
   "execution_count": 23,
   "id": "793c408e",
   "metadata": {},
   "outputs": [
    {
     "data": {
      "text/plain": [
       "1    1384\n",
       "0    1282\n",
       "2     157\n",
       "Name: DEALSIZE, dtype: int64"
      ]
     },
     "execution_count": 23,
     "metadata": {},
     "output_type": "execute_result"
    }
   ],
   "source": [
    "dataset.DEALSIZE.value_counts()"
   ]
  },
  {
   "cell_type": "code",
   "execution_count": 24,
   "id": "e8b001ce",
   "metadata": {},
   "outputs": [
    {
     "data": {
      "text/plain": [
       "Classic Cars        967\n",
       "Vintage Cars        607\n",
       "Motorcycles         331\n",
       "Planes              306\n",
       "Trucks and Buses    301\n",
       "Ships               234\n",
       "Trains               77\n",
       "Name: PRODUCTLINE, dtype: int64"
      ]
     },
     "execution_count": 24,
     "metadata": {},
     "output_type": "execute_result"
    }
   ],
   "source": [
    "dataset.PRODUCTLINE.value_counts()"
   ]
  },
  {
   "cell_type": "code",
   "execution_count": 25,
   "id": "6bd8633d",
   "metadata": {},
   "outputs": [],
   "source": [
    "prodline_dict = {\"Classic Cars\":\"0\",\"Vintage Cars\":\"1\",\"Motorcycles\":\"2\",\"Planes\":\"3\",\"Trucks and Buses\":\"4\",\"Ships\":\"5\",\"Trains\":\"6\"}\n",
    "\n",
    "def process(text):\n",
    "    text = text.replace(\"Classic Cars\", prodline_dict[\"Classic Cars\"]).replace(\"Vintage Cars\", prodline_dict[\"Vintage Cars\"]).replace(\"Motorcycles\", prodline_dict[\"Motorcycles\"]).replace(\"Planes\", prodline_dict[\"Planes\"]).replace(\"Trucks and Buses\", prodline_dict[\"Trucks and Buses\"]).replace(\"Ships\", prodline_dict[\"Ships\"]).replace(\"Trains\", prodline_dict[\"Trains\"])\n",
    "    text = text.encode(\"utf8\").decode(\"ascii\",'ignore')\n",
    "    text = \" \".join(text.split())\n",
    "    return text\n",
    "\n",
    "dataset.PRODUCTLINE = dataset.PRODUCTLINE.apply(process)"
   ]
  },
  {
   "cell_type": "code",
   "execution_count": 26,
   "id": "7ffb4519",
   "metadata": {},
   "outputs": [],
   "source": [
    "dataset.PRODUCTLINE= dataset.PRODUCTLINE.astype(int)"
   ]
  },
  {
   "cell_type": "code",
   "execution_count": 27,
   "id": "24e71c2c",
   "metadata": {},
   "outputs": [
    {
     "data": {
      "text/plain": [
       "0    967\n",
       "1    607\n",
       "2    331\n",
       "3    306\n",
       "4    301\n",
       "5    234\n",
       "6     77\n",
       "Name: PRODUCTLINE, dtype: int64"
      ]
     },
     "execution_count": 27,
     "metadata": {},
     "output_type": "execute_result"
    }
   ],
   "source": [
    "dataset.PRODUCTLINE.value_counts()"
   ]
  },
  {
   "cell_type": "code",
   "execution_count": 28,
   "id": "d05f47ab",
   "metadata": {},
   "outputs": [
    {
     "data": {
      "text/plain": [
       "dtype('int32')"
      ]
     },
     "execution_count": 28,
     "metadata": {},
     "output_type": "execute_result"
    }
   ],
   "source": [
    "dataset.PRODUCTLINE.dtype"
   ]
  },
  {
   "cell_type": "markdown",
   "id": "45845e8f",
   "metadata": {},
   "source": [
    "## K-Means Clustering"
   ]
  },
  {
   "cell_type": "code",
   "execution_count": 29,
   "id": "c9eb96a2",
   "metadata": {},
   "outputs": [],
   "source": [
    "X = dataset.values"
   ]
  },
  {
   "cell_type": "code",
   "execution_count": 30,
   "id": "d1e72242",
   "metadata": {},
   "outputs": [
    {
     "data": {
      "text/plain": [
       "(2823, 12)"
      ]
     },
     "execution_count": 30,
     "metadata": {},
     "output_type": "execute_result"
    }
   ],
   "source": [
    "X.shape"
   ]
  },
  {
   "cell_type": "code",
   "execution_count": 31,
   "id": "3c018607",
   "metadata": {},
   "outputs": [],
   "source": [
    "from sklearn.cluster import KMeans\n",
    "import seaborn as sns"
   ]
  },
  {
   "cell_type": "code",
   "execution_count": 32,
   "id": "154741f9",
   "metadata": {},
   "outputs": [],
   "source": [
    "# Within Cluster Sum of Squares\n",
    "wcss = []"
   ]
  },
  {
   "cell_type": "code",
   "execution_count": 33,
   "id": "06686188",
   "metadata": {},
   "outputs": [],
   "source": [
    "for i in range(1, 11):\n",
    "    kmeans = KMeans(n_clusters=i, init='k-means++', random_state=42)\n",
    "    kmeans.fit(X)\n",
    "    wcss.append(kmeans.inertia_)"
   ]
  },
  {
   "cell_type": "code",
   "execution_count": 34,
   "id": "217db5b5",
   "metadata": {},
   "outputs": [
    {
     "data": {
      "text/plain": [
       "<AxesSubplot:>"
      ]
     },
     "execution_count": 34,
     "metadata": {},
     "output_type": "execute_result"
    },
    {
     "data": {
      "image/png": "[encoded data removed]",
      "text/plain": [
       "<Figure size 432x288 with 1 Axes>"
      ]
     },
     "metadata": {
      "needs_background": "light"
     },
     "output_type": "display_data"
    }
   ],
   "source": [
    "ks = [1, 2, 3, 4, 5, 6, 7, 8, 9, 10]\n",
    "sns.lineplot(x=ks, y=wcss)"
   ]
  },
  {
   "cell_type": "code",
   "execution_count": 35,
   "id": "21168eab",
   "metadata": {},
   "outputs": [
    {
     "name": "stdout",
     "output_type": "stream",
     "text": [
      "[0 0 1 ... 4 3 0]\n"
     ]
    }
   ],
   "source": [
    "kmeans = KMeans(n_clusters=5, init=\"k-means++\", random_state=42)\n",
    "y_kmeans = kmeans.fit_predict(X)\n",
    "print(y_kmeans) "
   ]
  },
  {
   "cell_type": "code",
   "execution_count": 36,
   "id": "8b18374f",
   "metadata": {},
   "outputs": [],
   "source": [
    "# plt.scatter(X[y_kmeans == 0, 0], X[y_kmeans == 0, 1],\n",
    "#             s=60, c='red', label='Cluster1')\n",
    "# plt.scatter(X[y_kmeans == 1, 0], X[y_kmeans == 1, 1],\n",
    "#             s=60, c='blue', label='Cluster2')\n",
    "\n",
    "# plt.scatter(X[y_kmeans == 2, 0], X[y_kmeans == 2, 1], s=60, c='green', label= 'Cluster3')\n",
    "# plt.scatter(X[y_kmeans == 3, 0], X[y_kmeans == 3, 1],\n",
    "#             s=60, c='violet', label='Cluster4')\n",
    "# plt.scatter(X[y_kmeans == 4, 0], X[y_kmeans == 4, 1],\n",
    "#             s=60, c='yellow', label='Cluster5')\n",
    "# plt.scatter(kmeans.cluster_centers_[:, 0], kmeans.cluster_centers_[\n",
    "#             :, 1], s=100, c='black', label='Centroids')\n",
    "# plt.xlabel('Deal Size') \n",
    "# plt.ylabel('') \n",
    "# plt.legend()\n",
    "\n",
    "# plt.show()\n"
   ]
  },
  {
   "cell_type": "code",
   "execution_count": 37,
   "id": "82a047ab",
   "metadata": {},
   "outputs": [
    {
     "data": {
      "image/png": "[encoded data removed]",
      "text/plain": [
       "<Figure size 432x288 with 1 Axes>"
      ]
     },
     "metadata": {
      "needs_background": "light"
     },
     "output_type": "display_data"
    }
   ],
   "source": [
    "label = y_kmeans\n",
    "u_labels = np.unique(label)\n",
    " \n",
    "#plotting the results:\n",
    " \n",
    "for i in u_labels:\n",
    "    plt.scatter(X[y_kmeans == i , 0] , X[y_kmeans == i , 7] , label = i)\n",
    "plt.legend()\n",
    "plt.show()"
   ]
  },
  {
   "cell_type": "code",
   "execution_count": 38,
   "id": "3481bac9",
   "metadata": {},
   "outputs": [
    {
     "data": {
      "text/plain": [
       "(2823, 12)"
      ]
     },
     "execution_count": 38,
     "metadata": {},
     "output_type": "execute_result"
    }
   ],
   "source": [
    "dataset.shape"
   ]
  },
  {
   "cell_type": "code",
   "execution_count": 39,
   "id": "cba8e11d",
   "metadata": {},
   "outputs": [
    {
     "data": {
      "text/html": [
       "<div>\n",
       "<style scoped>\n",
       "    .dataframe tbody tr th:only-of-type {\n",
       "        vertical-align: middle;\n",
       "    }\n",
       "\n",
       "    .dataframe tbody tr th {\n",
       "        vertical-align: top;\n",
       "    }\n",
       "\n",
       "    .dataframe thead th {\n",
       "        text-align: right;\n",
       "    }\n",
       "</style>\n",
       "<table border=\"1\" class=\"dataframe\">\n",
       "  <thead>\n",
       "    <tr style=\"text-align: right;\">\n",
       "      <th></th>\n",
       "      <th>ORDERNUMBER</th>\n",
       "      <th>QUANTITYORDERED</th>\n",
       "      <th>PRICEEACH</th>\n",
       "      <th>ORDERLINENUMBER</th>\n",
       "      <th>SALES</th>\n",
       "      <th>STATUS</th>\n",
       "      <th>QTR_ID</th>\n",
       "      <th>MONTH_ID</th>\n",
       "      <th>YEAR_ID</th>\n",
       "      <th>PRODUCTLINE</th>\n",
       "      <th>MSRP</th>\n",
       "      <th>DEALSIZE</th>\n",
       "    </tr>\n",
       "  </thead>\n",
       "  <tbody>\n",
       "    <tr>\n",
       "      <th>0</th>\n",
       "      <td>10107</td>\n",
       "      <td>30</td>\n",
       "      <td>95.70</td>\n",
       "      <td>2</td>\n",
       "      <td>2871.00</td>\n",
       "      <td>0</td>\n",
       "      <td>1</td>\n",
       "      <td>2</td>\n",
       "      <td>2003</td>\n",
       "      <td>2</td>\n",
       "      <td>95</td>\n",
       "      <td>0</td>\n",
       "    </tr>\n",
       "    <tr>\n",
       "      <th>1</th>\n",
       "      <td>10121</td>\n",
       "      <td>34</td>\n",
       "      <td>81.35</td>\n",
       "      <td>5</td>\n",
       "      <td>2765.90</td>\n",
       "      <td>0</td>\n",
       "      <td>2</td>\n",
       "      <td>5</td>\n",
       "      <td>2003</td>\n",
       "      <td>2</td>\n",
       "      <td>95</td>\n",
       "      <td>0</td>\n",
       "    </tr>\n",
       "    <tr>\n",
       "      <th>2</th>\n",
       "      <td>10134</td>\n",
       "      <td>41</td>\n",
       "      <td>94.74</td>\n",
       "      <td>2</td>\n",
       "      <td>3884.34</td>\n",
       "      <td>0</td>\n",
       "      <td>3</td>\n",
       "      <td>7</td>\n",
       "      <td>2003</td>\n",
       "      <td>2</td>\n",
       "      <td>95</td>\n",
       "      <td>1</td>\n",
       "    </tr>\n",
       "    <tr>\n",
       "      <th>3</th>\n",
       "      <td>10145</td>\n",
       "      <td>45</td>\n",
       "      <td>83.26</td>\n",
       "      <td>6</td>\n",
       "      <td>3746.70</td>\n",
       "      <td>0</td>\n",
       "      <td>3</td>\n",
       "      <td>8</td>\n",
       "      <td>2003</td>\n",
       "      <td>2</td>\n",
       "      <td>95</td>\n",
       "      <td>1</td>\n",
       "    </tr>\n",
       "    <tr>\n",
       "      <th>4</th>\n",
       "      <td>10159</td>\n",
       "      <td>49</td>\n",
       "      <td>100.00</td>\n",
       "      <td>14</td>\n",
       "      <td>5205.27</td>\n",
       "      <td>0</td>\n",
       "      <td>4</td>\n",
       "      <td>10</td>\n",
       "      <td>2003</td>\n",
       "      <td>2</td>\n",
       "      <td>95</td>\n",
       "      <td>1</td>\n",
       "    </tr>\n",
       "    <tr>\n",
       "      <th>...</th>\n",
       "      <td>...</td>\n",
       "      <td>...</td>\n",
       "      <td>...</td>\n",
       "      <td>...</td>\n",
       "      <td>...</td>\n",
       "      <td>...</td>\n",
       "      <td>...</td>\n",
       "      <td>...</td>\n",
       "      <td>...</td>\n",
       "      <td>...</td>\n",
       "      <td>...</td>\n",
       "      <td>...</td>\n",
       "    </tr>\n",
       "    <tr>\n",
       "      <th>2818</th>\n",
       "      <td>10350</td>\n",
       "      <td>20</td>\n",
       "      <td>100.00</td>\n",
       "      <td>15</td>\n",
       "      <td>2244.40</td>\n",
       "      <td>0</td>\n",
       "      <td>4</td>\n",
       "      <td>12</td>\n",
       "      <td>2004</td>\n",
       "      <td>5</td>\n",
       "      <td>54</td>\n",
       "      <td>0</td>\n",
       "    </tr>\n",
       "    <tr>\n",
       "      <th>2819</th>\n",
       "      <td>10373</td>\n",
       "      <td>29</td>\n",
       "      <td>100.00</td>\n",
       "      <td>1</td>\n",
       "      <td>3978.51</td>\n",
       "      <td>0</td>\n",
       "      <td>1</td>\n",
       "      <td>1</td>\n",
       "      <td>2005</td>\n",
       "      <td>5</td>\n",
       "      <td>54</td>\n",
       "      <td>1</td>\n",
       "    </tr>\n",
       "    <tr>\n",
       "      <th>2820</th>\n",
       "      <td>10386</td>\n",
       "      <td>43</td>\n",
       "      <td>100.00</td>\n",
       "      <td>4</td>\n",
       "      <td>5417.57</td>\n",
       "      <td>2</td>\n",
       "      <td>1</td>\n",
       "      <td>3</td>\n",
       "      <td>2005</td>\n",
       "      <td>5</td>\n",
       "      <td>54</td>\n",
       "      <td>1</td>\n",
       "    </tr>\n",
       "    <tr>\n",
       "      <th>2821</th>\n",
       "      <td>10397</td>\n",
       "      <td>34</td>\n",
       "      <td>62.24</td>\n",
       "      <td>1</td>\n",
       "      <td>2116.16</td>\n",
       "      <td>0</td>\n",
       "      <td>1</td>\n",
       "      <td>3</td>\n",
       "      <td>2005</td>\n",
       "      <td>5</td>\n",
       "      <td>54</td>\n",
       "      <td>0</td>\n",
       "    </tr>\n",
       "    <tr>\n",
       "      <th>2822</th>\n",
       "      <td>10414</td>\n",
       "      <td>47</td>\n",
       "      <td>65.52</td>\n",
       "      <td>9</td>\n",
       "      <td>3079.44</td>\n",
       "      <td>3</td>\n",
       "      <td>2</td>\n",
       "      <td>5</td>\n",
       "      <td>2005</td>\n",
       "      <td>5</td>\n",
       "      <td>54</td>\n",
       "      <td>1</td>\n",
       "    </tr>\n",
       "  </tbody>\n",
       "</table>\n",
       "<p>2823 rows × 12 columns</p>\n",
       "</div>"
      ],
      "text/plain": [
       "      ORDERNUMBER  QUANTITYORDERED  PRICEEACH  ORDERLINENUMBER    SALES  \\\n",
       "0           10107               30      95.70                2  2871.00   \n",
       "1           10121               34      81.35                5  2765.90   \n",
       "2           10134               41      94.74                2  3884.34   \n",
       "3           10145               45      83.26                6  3746.70   \n",
       "4           10159               49     100.00               14  5205.27   \n",
       "...           ...              ...        ...              ...      ...   \n",
       "2818        10350               20     100.00               15  2244.40   \n",
       "2819        10373               29     100.00                1  3978.51   \n",
       "2820        10386               43     100.00                4  5417.57   \n",
       "2821        10397               34      62.24                1  2116.16   \n",
       "2822        10414               47      65.52                9  3079.44   \n",
       "\n",
       "      STATUS  QTR_ID  MONTH_ID  YEAR_ID  PRODUCTLINE  MSRP  DEALSIZE  \n",
       "0          0       1         2     2003            2    95         0  \n",
       "1          0       2         5     2003            2    95         0  \n",
       "2          0       3         7     2003            2    95         1  \n",
       "3          0       3         8     2003            2    95         1  \n",
       "4          0       4        10     2003            2    95         1  \n",
       "...      ...     ...       ...      ...          ...   ...       ...  \n",
       "2818       0       4        12     2004            5    54         0  \n",
       "2819       0       1         1     2005            5    54         1  \n",
       "2820       2       1         3     2005            5    54         1  \n",
       "2821       0       1         3     2005            5    54         0  \n",
       "2822       3       2         5     2005            5    54         1  \n",
       "\n",
       "[2823 rows x 12 columns]"
      ]
     },
     "execution_count": 39,
     "metadata": {},
     "output_type": "execute_result"
    }
   ],
   "source": [
    "dataset.head(2823)"
   ]
  },
  {
   "cell_type": "code",
   "execution_count": 40,
   "id": "1f0ef293",
   "metadata": {},
   "outputs": [
    {
     "data": {
      "text/plain": [
       "<AxesSubplot:>"
      ]
     },
     "execution_count": 40,
     "metadata": {},
     "output_type": "execute_result"
    },
    {
     "data": {
      "image/png": "[encoded data removed]",
      "text/plain": [
       "<Figure size 432x288 with 2 Axes>"
      ]
     },
     "metadata": {
      "needs_background": "light"
     },
     "output_type": "display_data"
    }
   ],
   "source": [
    "sns.heatmap(dataset.corr(), annot=True)"
   ]
  },
  {
   "cell_type": "code",
   "execution_count": null,
   "id": "adf9c2c6",
   "metadata": {},
   "outputs": [],
   "source": []
  }
 ],
 "metadata": {
  "kernelspec": {
   "display_name": "Python 3 (ipykernel)",
   "language": "python",
   "name": "python3"
  },
  "language_info": {
   "codemirror_mode": {
    "name": "ipython",
    "version": 3
   },
   "file_extension": ".py",
   "mimetype": "text/x-python",
   "name": "python",
   "nbconvert_exporter": "python",
   "pygments_lexer": "ipython3",
   "version": "3.9.7"
  }
 },
 "nbformat": 4,
 "nbformat_minor": 5
}
